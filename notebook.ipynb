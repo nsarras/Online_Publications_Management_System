{
 "cells": [
  {
   "cell_type": "markdown",
   "metadata": {
    "collapsed": true
   },
   "source": [
    "Before running this Jupyter notebook, make sure to have run the create.py script to generate and populate the publications database by using the command: python create.py pubs.txt\n",
    "This notebook will load the database and attempt multiple queries on the database to test its robustness and efficiency."
   ]
  },
  {
   "cell_type": "code",
   "execution_count": null,
   "metadata": {
    "collapsed": true
   },
   "outputs": [],
   "source": [
    "%load_ext sql"
   ]
  },
  {
   "cell_type": "code",
   "execution_count": null,
   "metadata": {},
   "outputs": [],
   "source": [
    "%sql sqlite:///database.db"
   ]
  },
  {
   "cell_type": "markdown",
   "metadata": {},
   "source": [
    "#1 Inserting new publication into database tables"
   ]
  },
  {
   "cell_type": "code",
   "execution_count": null,
   "metadata": {},
   "outputs": [],
   "source": [
    "%sql insert into pubs values(157804, 'SJSU_CMPE', '300-400', 2017, 'DATABASE_DESIGN');"
   ]
  },
  {
   "cell_type": "code",
   "execution_count": null,
   "metadata": {},
   "outputs": [],
   "source": [
    "%sql SELECT TITLE FROM pubs WHERE ID = 157804;"
   ]
  },
  {
   "cell_type": "markdown",
   "metadata": {},
   "source": [
    "#2 Return publications from a specific author"
   ]
  },
  {
   "cell_type": "code",
   "execution_count": null,
   "metadata": {},
   "outputs": [],
   "source": [
    "%sql SELECT DISTINCT TITLE, ID, YEAR, JOURNAL from pubs, authors WHERE pubs.ID = authors.auth_id AND author = 'Venu Govindaraju'"
   ]
  },
  {
   "cell_type": "markdown",
   "metadata": {
    "collapsed": true
   },
   "source": [
    "#3 Return publications from a specific year"
   ]
  },
  {
   "cell_type": "code",
   "execution_count": null,
   "metadata": {},
   "outputs": [],
   "source": [
    "%sql SELECT DISTINCT TITLE, ID, JOURNAL from pubs WHERE pubs.YEAR = 2005"
   ]
  },
  {
   "cell_type": "markdown",
   "metadata": {},
   "source": [
    "#4 Return publications from a specific journal"
   ]
  },
  {
   "cell_type": "code",
   "execution_count": null,
   "metadata": {},
   "outputs": [],
   "source": [
    "%sql SELECT DISTINCT TITLE, ID, JOURNAL, PAGES, YEAR FROM pubs WHERE pubs.JOURNAL = 'HIP'"
   ]
  },
  {
   "cell_type": "markdown",
   "metadata": {},
   "source": [
    "#5 Returns publications with a substring in the title"
   ]
  },
  {
   "cell_type": "code",
   "execution_count": null,
   "metadata": {},
   "outputs": [],
   "source": [
    "%sql SELECT DISTINCT TITLE, ID, JOURNAL, PAGES, YEAR from pubs where pubs.TITLE LIKE '%Web%'"
   ]
  },
  {
   "cell_type": "markdown",
   "metadata": {},
   "source": [
    "#6 Querying publications with author, year, journal, title"
   ]
  },
  {
   "cell_type": "code",
   "execution_count": null,
   "metadata": {},
   "outputs": [],
   "source": [
    "%%sql SELECT DISTINCT TITLE, ID, JOURNAL, PAGES, YEAR from pubs, authors \n",
    "WHERE pubs.ID = authors.auth_id \n",
    "AND pubs.TITLE LIKE '%Algorithm%' \n",
    "AND authors.AUTHOR = 'Venu Govindaraju'\n",
    "AND JOURNAL = 'ICB'\n",
    "AND YEAR > 2005"
   ]
  },
  {
   "cell_type": "markdown",
   "metadata": {},
   "source": [
    "#7  Delete a publication from a particular author, year, journal"
   ]
  },
  {
   "cell_type": "code",
   "execution_count": null,
   "metadata": {
    "scrolled": true
   },
   "outputs": [],
   "source": [
    "%%sql DELETE from pubs\n",
    "WHERE pubs.YEAR = 2017\n",
    "AND pubs.JOURNAL = 'SJSU_CMPE'"
   ]
  },
  {
   "cell_type": "markdown",
   "metadata": {},
   "source": [
    "#8 Delete records for a given author"
   ]
  },
  {
   "cell_type": "code",
   "execution_count": null,
   "metadata": {},
   "outputs": [],
   "source": [
    "%%sql DELETE from pubs\n",
    "WHERE pubs.ID in \n",
    "(SELECT auth_ID from authors\n",
    "WHERE authors.AUTHOR = 'Venu Govindaraju');"
   ]
  },
  {
   "cell_type": "markdown",
   "metadata": {},
   "source": [
    "#9 Change name of author or journal"
   ]
  },
  {
   "cell_type": "code",
   "execution_count": null,
   "metadata": {},
   "outputs": [],
   "source": [
    "%%sql UPDATE pubs\n",
    "SET JOURNAL = 'zzz'\n",
    "WHERE ID = 130"
   ]
  },
  {
   "cell_type": "markdown",
   "metadata": {},
   "source": [
    "#10 Change title of an article or its publication year"
   ]
  },
  {
   "cell_type": "code",
   "execution_count": null,
   "metadata": {},
   "outputs": [],
   "source": [
    "%%sql UPDATE pubs\n",
    "SET TITLE = 'Query'\n",
    "WHERE ID = 163"
   ]
  },
  {
   "cell_type": "code",
   "execution_count": null,
   "metadata": {
    "collapsed": true
   },
   "outputs": [],
   "source": []
  }
 ],
 "metadata": {
  "kernelspec": {
   "display_name": "Python 2",
   "language": "python",
   "name": "python2"
  },
  "language_info": {
   "codemirror_mode": {
    "name": "ipython",
    "version": 2
   },
   "file_extension": ".py",
   "mimetype": "text/x-python",
   "name": "python",
   "nbconvert_exporter": "python",
   "pygments_lexer": "ipython2",
   "version": "2.7.13"
  }
 },
 "nbformat": 4,
 "nbformat_minor": 2
}
